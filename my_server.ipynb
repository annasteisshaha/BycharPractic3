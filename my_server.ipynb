{
 "cells": [
  {
   "cell_type": "code",
   "execution_count": null,
   "metadata": {},
   "outputs": [],
   "source": [
    "import socket\n",
    "from server import PORT\n",
    "\n",
    "EXIT = 'exit'\n",
    "\n",
    "def _main():\n",
    "    sock = socket.socket()\n",
    "    sock.connect(('localhost', PORT))\n",
    "    print('Соединение с сервером')\n",
    "\n",
    "    while True:\n",
    "        message = input()\n",
    "        if message == EXIT:\n",
    "            break\n",
    "        print(f'Отправка \"{message}\" серверу')\n",
    "        sock.send(message.encode())\n",
    "        data = sock.recv(1024).decode()\n",
    "        print(f'Пришло \"{data}\" от сервера')\n",
    "        print(data)\n",
    "\n",
    "    sock.close()\n",
    "    print('Соединение с сервером закрыто')\n",
    "\n",
    "\n",
    "if name == '__main__':\n",
    "    _main()"
   ]
  }
 ],
 "metadata": {
  "language_info": {
   "name": "python"
  },
  "orig_nbformat": 4
 },
 "nbformat": 4,
 "nbformat_minor": 2
}
