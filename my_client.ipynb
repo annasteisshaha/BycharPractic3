{
 "cells": [
  {
   "cell_type": "code",
   "execution_count": null,
   "metadata": {},
   "outputs": [],
   "source": [
    "import socket\n",
    "\n",
    "PORT = 9090\n",
    "\n",
    "def _main():\n",
    "    sock = socket.socket()\n",
    "    sock.bind(('', PORT))\n",
    "    print('Запуск сервера')\n",
    "    sock.listen()\n",
    "    print('Прослушивания порта:', PORT)\n",
    "    conn, addr = sock.accept()\n",
    "    print('Подключение клиента:', addr)\n",
    "\n",
    "    while True:\n",
    "        data = conn.recv(1024)\n",
    "        if not data:\n",
    "            break\n",
    "        decoded = data.decode()\n",
    "        print(f'Пришло \"{decoded}\" от клиента', addr)\n",
    "        conn.send(data)\n",
    "        print(f'Отправка \"{decoded}\" клиенту', addr)\n",
    "\n",
    "    conn.close()\n",
    "    print('Отключение клиента', addr)\n",
    "    sock.close()\n",
    "    print('Отключение сервера')\n",
    "\n",
    "\n",
    "if name == '__main__':\n",
    "    _main()"
   ]
  }
 ],
 "metadata": {
  "language_info": {
   "name": "python"
  },
  "orig_nbformat": 4
 },
 "nbformat": 4,
 "nbformat_minor": 2
}
